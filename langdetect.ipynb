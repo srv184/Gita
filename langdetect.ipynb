{
 "cells": [
  {
   "cell_type": "code",
   "execution_count": 6,
   "id": "664d1783-034c-4c64-b137-5af7d38cd1d7",
   "metadata": {},
   "outputs": [
    {
     "name": "stdin",
     "output_type": "stream",
     "text": [
      "Enter your message:  写\n"
     ]
    },
    {
     "name": "stdout",
     "output_type": "stream",
     "text": [
      "Detected language: zh-cn\n",
      "Response: Your message: '写'. Thank you for using our service!\n"
     ]
    }
   ],
   "source": [
    "from langdetect import detect\n",
    "from langdetect.lang_detect_exception import LangDetectException\n",
    "\n",
    "def detect_language(text):\n",
    "    \"\"\"\n",
    "    Detect the language of the input text.\n",
    "    \n",
    "    Args:\n",
    "    - text (str): Input text to detect language.\n",
    "    \n",
    "    Returns:\n",
    "    - language (str): Detected language code (e.g., 'en' for English, 'hi' for Hindi).\n",
    "    \"\"\"\n",
    "    try:\n",
    "        language = detect(text)\n",
    "    except LangDetectException as e:\n",
    "        # Handle language detection exceptions\n",
    "        print(f\"Language detection error: {e}\")\n",
    "        language = \"unknown\"\n",
    "    return language\n",
    "\n",
    "def generate_response(input_text, detected_language):\n",
    "    \"\"\"\n",
    "    Generate a response based on the detected language.\n",
    "    \n",
    "    Args:\n",
    "    - input_text (str): User input text.\n",
    "    - detected_language (str): Detected language code.\n",
    "    \n",
    "    Returns:\n",
    "    - response (str): Generated response in the detected language.\n",
    "    \"\"\"\n",
    "    if detected_language == 'en':\n",
    "        # English response\n",
    "        response = f\"You wrote: '{input_text}'. Thanks for using our service!\"\n",
    "    elif detected_language == 'hi':\n",
    "        # Hindi response\n",
    "        response = f\"आपने लिखा है: '{input_text}'। हमारी सेवा का उपयोग करने के लिए धन्यवाद!\"\n",
    "    else:\n",
    "        # Default response for other languages\n",
    "        response = f\"Your message: '{input_text}'. Thank you for using our service!\"\n",
    "    return response\n",
    "\n",
    "def main():\n",
    "    # User input\n",
    "    input_text = input(\"Enter your message: \")\n",
    "    \n",
    "    # Detect language\n",
    "    detected_language = detect_language(input_text)\n",
    "    \n",
    "    # Display detected language\n",
    "    print(\"Detected language:\", detected_language)\n",
    "    \n",
    "    # Generate response in the detected language\n",
    "    response = generate_response(input_text, detected_language)\n",
    "    \n",
    "    # Output response\n",
    "    print(\"Response:\", response)\n",
    "\n",
    "if __name__ == \"__main__\":\n",
    "    main()\n"
   ]
  },
  {
   "cell_type": "code",
   "execution_count": null,
   "id": "d1f77e55-d54a-4c03-9070-8ee52798ba4c",
   "metadata": {},
   "outputs": [],
   "source": []
  }
 ],
 "metadata": {
  "kernelspec": {
   "display_name": "Python 3 (ipykernel)",
   "language": "python",
   "name": "python3"
  },
  "language_info": {
   "codemirror_mode": {
    "name": "ipython",
    "version": 3
   },
   "file_extension": ".py",
   "mimetype": "text/x-python",
   "name": "python",
   "nbconvert_exporter": "python",
   "pygments_lexer": "ipython3",
   "version": "3.12.2"
  }
 },
 "nbformat": 4,
 "nbformat_minor": 5
}
