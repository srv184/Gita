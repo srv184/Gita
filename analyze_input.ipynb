{
 "cells": [
  {
   "cell_type": "code",
   "execution_count": 1,
   "id": "a970fe3d-e9cb-44c0-a7f7-2939cfb37fdd",
   "metadata": {},
   "outputs": [
    {
     "name": "stderr",
     "output_type": "stream",
     "text": [
      "[nltk_data] Downloading package punkt to\n",
      "[nltk_data]     C:\\Users\\soura\\AppData\\Roaming\\nltk_data...\n",
      "[nltk_data]   Unzipping tokenizers\\punkt.zip.\n"
     ]
    },
    {
     "name": "stdout",
     "output_type": "stream",
     "text": [
      "['I', 'am', 'feeling', 'lost', 'and', 'confused', '.']\n"
     ]
    }
   ],
   "source": [
    "import nltk\n",
    "nltk.download('punkt')  # Download the necessary NLTK data\n",
    "\n",
    "def tokenize_text(input_text):\n",
    "    tokens = nltk.word_tokenize(input_text)\n",
    "    return tokens\n",
    "\n",
    "# Example usage:\n",
    "input_text = \"I am feeling lost and confused.\"\n",
    "tokens = tokenize_text(input_text)\n",
    "print(tokens)\n"
   ]
  },
  {
   "cell_type": "code",
   "execution_count": 3,
   "id": "9e83afe9-2abd-418e-9d50-f9a9ce37004d",
   "metadata": {},
   "outputs": [
    {
     "name": "stderr",
     "output_type": "stream",
     "text": [
      "[nltk_data] Downloading package vader_lexicon to\n",
      "[nltk_data]     C:\\Users\\soura\\AppData\\Roaming\\nltk_data...\n"
     ]
    },
    {
     "data": {
      "text/plain": [
       "True"
      ]
     },
     "execution_count": 3,
     "metadata": {},
     "output_type": "execute_result"
    }
   ],
   "source": [
    "import nltk\n",
    "nltk.download('vader_lexicon')\n"
   ]
  },
  {
   "cell_type": "code",
   "execution_count": 4,
   "id": "226d4b63-1462-4055-bf29-b36ead30b8e8",
   "metadata": {},
   "outputs": [
    {
     "name": "stdout",
     "output_type": "stream",
     "text": [
      "{'neg': 0.568, 'neu': 0.247, 'pos': 0.185, 'compound': -0.4767}\n"
     ]
    }
   ],
   "source": [
    "from nltk.sentiment.vader import SentimentIntensityAnalyzer\n",
    "\n",
    "def analyze_sentiment(input_text):\n",
    "    sid = SentimentIntensityAnalyzer()\n",
    "    sentiment_scores = sid.polarity_scores(input_text)\n",
    "    return sentiment_scores\n",
    "\n",
    "# Example usage:\n",
    "input_text = \"I am feeling lost and confused.\"\n",
    "sentiment_scores = analyze_sentiment(input_text)\n",
    "print(sentiment_scores)\n"
   ]
  },
  {
   "cell_type": "code",
   "execution_count": 10,
   "id": "5e58e98c-6a00-4180-8b2c-572e667072fb",
   "metadata": {},
   "outputs": [
    {
     "name": "stderr",
     "output_type": "stream",
     "text": [
      "[nltk_data] Downloading package stopwords to\n",
      "[nltk_data]     C:\\Users\\soura\\AppData\\Roaming\\nltk_data...\n",
      "[nltk_data]   Unzipping corpora\\stopwords.zip.\n"
     ]
    },
    {
     "data": {
      "text/plain": [
       "True"
      ]
     },
     "execution_count": 10,
     "metadata": {},
     "output_type": "execute_result"
    }
   ],
   "source": [
    "import nltk\n",
    "nltk.download('stopwords')\n"
   ]
  },
  {
   "cell_type": "code",
   "execution_count": 12,
   "id": "c07ea47b-8b8a-40f2-b604-4ff410b3c432",
   "metadata": {},
   "outputs": [
    {
     "name": "stdout",
     "output_type": "stream",
     "text": [
      "['confused' 'feeling' 'lost']\n"
     ]
    }
   ],
   "source": [
    "from sklearn.feature_extraction.text import TfidfVectorizer\n",
    "from nltk.corpus import stopwords\n",
    "\n",
    "def extract_keywords(input_text):\n",
    "    stop_words = 'english'  # Specify 'english' to use built-in English stopwords\n",
    "    tfidf_vectorizer = TfidfVectorizer(stop_words=stop_words)\n",
    "    tfidf_matrix = tfidf_vectorizer.fit_transform([input_text])\n",
    "    feature_names = tfidf_vectorizer.get_feature_names_out()\n",
    "    return feature_names\n",
    "\n",
    "# Example usage:\n",
    "input_text = \"I am feeling lost and confused.\"\n",
    "keywords = extract_keywords(input_text)\n",
    "print(keywords)\n"
   ]
  },
  {
   "cell_type": "code",
   "execution_count": 15,
   "id": "da984ad2-42e0-4797-ae03-31dbbc6a7750",
   "metadata": {},
   "outputs": [
    {
     "name": "stdin",
     "output_type": "stream",
     "text": [
      "Enter your problem or query:  I am feeling alone.\n"
     ]
    },
    {
     "name": "stdout",
     "output_type": "stream",
     "text": [
      "Here are some verses from the Bhagavad Gita:\n",
      "Verse 1\n",
      "Verse 2\n",
      "Verse 3\n"
     ]
    }
   ],
   "source": [
    "from nltk.sentiment.vader import SentimentIntensityAnalyzer\n",
    "from sklearn.feature_extraction.text import TfidfVectorizer\n",
    "from nltk.corpus import stopwords\n",
    "\n",
    "# Sentiment analysis function\n",
    "def analyze_sentiment(input_text):\n",
    "    sid = SentimentIntensityAnalyzer()\n",
    "    sentiment_scores = sid.polarity_scores(input_text)\n",
    "    return sentiment_scores\n",
    "\n",
    "# Keyword extraction function\n",
    "def extract_keywords(input_text):\n",
    "    stop_words = 'english'\n",
    "    tfidf_vectorizer = TfidfVectorizer(stop_words=stop_words)\n",
    "    tfidf_matrix = tfidf_vectorizer.fit_transform([input_text])\n",
    "    feature_names = tfidf_vectorizer.get_feature_names_out()\n",
    "    return feature_names\n",
    "\n",
    "# Placeholder function for verse retrieval\n",
    "def retrieve_verses(keywords):\n",
    "    # Placeholder code for verse retrieval\n",
    "    return [\"Verse 1\", \"Verse 2\", \"Verse 3\"]\n",
    "\n",
    "# Placeholder function for solution display\n",
    "def display_solution(verses):\n",
    "    print(\"Here are some verses from the Bhagavad Gita:\")\n",
    "    for verse in verses:\n",
    "        print(verse)\n",
    "        \n",
    "# Main function\n",
    "def main():\n",
    "    # Get user input\n",
    "    input_text = input(\"Enter your problem or query: \")\n",
    "\n",
    "    # Analyze input\n",
    "    sentiment_scores = analyze_sentiment(input_text)\n",
    "    keywords = extract_keywords(input_text)\n",
    "\n",
    "    # Retrieve relevant verses\n",
    "    relevant_verses = retrieve_verses(keywords)\n",
    "\n",
    "    # Display solution\n",
    "    display_solution(relevant_verses)\n",
    "\n",
    "# Execute main function\n",
    "if __name__ == \"__main__\":\n",
    "    main()\n"
   ]
  },
  {
   "cell_type": "code",
   "execution_count": 21,
   "id": "2ef991ba-d52e-4c3a-8237-4fbd7b7a9046",
   "metadata": {},
   "outputs": [
    {
     "name": "stdin",
     "output_type": "stream",
     "text": [
      "Enter your problem or query:  I am feeling alone.\n"
     ]
    },
    {
     "name": "stdout",
     "output_type": "stream",
     "text": [
      "Here are some verses from the Bhagavad Gita:\n",
      "Bhagavad Gita 9.22: To those who are constantly devoted and worship me with love, I give the understanding by which they can come to me.\n",
      "Bhagavad Gita 9.29: I envy no one, nor am I partial to anyone. I am equal to all. But whoever renders service unto me in devotion is a friend, is in me, and I am also a friend to him.\n",
      "Bhagavad Gita 18.65: Always think of Me and become My devotee. Worship Me and offer your homage unto Me. Thus you will come to Me without fail. I promise you this because you are My very dear friend.\n"
     ]
    }
   ],
   "source": [
    "#Placeholder function for verse retrieval\n",
    "def retrieve_verses(keywords):\n",
    "    if \"alone\" in keywords:\n",
    "        verses = [\n",
    "            \"Bhagavad Gita 9.22: To those who are constantly devoted and worship me with love, I give the understanding by which they can come to me.\",\n",
    "            \"Bhagavad Gita 9.29: I envy no one, nor am I partial to anyone. I am equal to all. But whoever renders service unto me in devotion is a friend, is in me, and I am also a friend to him.\",\n",
    "            \"Bhagavad Gita 18.65: Always think of Me and become My devotee. Worship Me and offer your homage unto Me. Thus you will come to Me without fail. I promise you this because you are My very dear friend.\",\n",
    "        ]\n",
    "    else:\n",
    "        # If no specific keywords match, return generic verses\n",
    "        verses = [\n",
    "            \"Bhagavad Gita 2.47: You have a right to perform your prescribed duties, but you are not entitled to the fruits of your actions.\",\n",
    "            \"Bhagavad Gita 3.16: My dear Arjuna, one who does not follow in human life the cycle of sacrifice thus established by the Vedas certainly leads a life full of sin.\",\n",
    "            \"Bhagavad Gita 4.7: Whenever and wherever there is a decline in religious practice, O descendant of Bharata, and a predominant rise of irreligion—at that time I descend myself.\",\n",
    "        ]\n",
    "    return verses\n",
    "\n",
    "# Keyword extraction function\n",
    "def extract_keywords(input_text):\n",
    "    stop_words = set(stopwords.words('english'))\n",
    "    # Consider variations of the word \"alone\"\n",
    "    variations_of_alone = [\"alone\", \"lonely\", \"loneliness\", \"isolated\"]\n",
    "    # Convert input text to lowercase for case-insensitive matching\n",
    "    input_text_lower = input_text.lower()\n",
    "    # Extract keywords\n",
    "    keywords = [word for word in variations_of_alone if word in input_text_lower]\n",
    "    return keywords\n",
    "\n",
    "# Placeholder function for solution display\n",
    "def display_solution(verses):\n",
    "    print(\"Here are some verses from the Bhagavad Gita:\")\n",
    "    for verse in verses:\n",
    "        print(verse)\n",
    "\n",
    "# Main function remains unchanged\n",
    "def main():\n",
    "    # Get user input\n",
    "    input_text = input(\"Enter your problem or query: \")\n",
    "\n",
    "    # Analyze input\n",
    "    sentiment_scores = analyze_sentiment(input_text)\n",
    "    keywords = extract_keywords(input_text)\n",
    "\n",
    "    # Retrieve relevant verses\n",
    "    relevant_verses = retrieve_verses(keywords)\n",
    "\n",
    "    # Display solution\n",
    "    display_solution(relevant_verses)\n",
    "\n",
    "# Execute main function\n",
    "if __name__ == \"__main__\":\n",
    "    main()\n"
   ]
  },
  {
   "cell_type": "code",
   "execution_count": null,
   "id": "0a0474b8-8b7e-4330-b3e0-8bde8352940d",
   "metadata": {},
   "outputs": [],
   "source": []
  }
 ],
 "metadata": {
  "kernelspec": {
   "display_name": "Python 3 (ipykernel)",
   "language": "python",
   "name": "python3"
  },
  "language_info": {
   "codemirror_mode": {
    "name": "ipython",
    "version": 3
   },
   "file_extension": ".py",
   "mimetype": "text/x-python",
   "name": "python",
   "nbconvert_exporter": "python",
   "pygments_lexer": "ipython3",
   "version": "3.12.2"
  }
 },
 "nbformat": 4,
 "nbformat_minor": 5
}
